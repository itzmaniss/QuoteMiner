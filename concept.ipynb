{
 "cells": [
  {
   "cell_type": "markdown",
   "metadata": {},
   "source": [
    "<center><h1>QUOTEMINER!! concept</h1></center>\n"
   ]
  },
  {
   "cell_type": "markdown",
   "metadata": {},
   "source": [
    "Concept and testing notebook file for QuoteMiner. Cos jupyter variables really do come in handy cuh"
   ]
  },
  {
   "cell_type": "code",
   "execution_count": 3,
   "metadata": {},
   "outputs": [
    {
     "name": "stderr",
     "output_type": "stream",
     "text": [
      "/Users/itzmaniss/coding/QuoteMiner/.venv/lib/python3.9/site-packages/urllib3/__init__.py:35: NotOpenSSLWarning: urllib3 v2 only supports OpenSSL 1.1.1+, currently the 'ssl' module is compiled with 'LibreSSL 2.8.3'. See: https://github.com/urllib3/urllib3/issues/3020\n",
      "  warnings.warn(\n",
      "/Users/itzmaniss/coding/QuoteMiner/.venv/lib/python3.9/site-packages/tqdm/auto.py:21: TqdmWarning: IProgress not found. Please update jupyter and ipywidgets. See https://ipywidgets.readthedocs.io/en/stable/user_install.html\n",
      "  from .autonotebook import tqdm as notebook_tqdm\n",
      "INFO:speechbrain.utils.quirks:Applied quirks (see `speechbrain.utils.quirks`): [allow_tf32, disable_jit_profiling]\n",
      "INFO:speechbrain.utils.quirks:Excluded quirks specified by the `SB_DISABLE_QUIRKS` environment (comma-separated list): []\n"
     ]
    }
   ],
   "source": [
    "import os\n",
    "import whisperx\n",
    "import subprocess\n",
    "import pathlib\n",
    "import torch\n",
    "import json\n",
    "from llama_index.core import  VectorStoreIndex, Settings, SimpleDirectoryReader\n",
    "from llama_index.llms.ollama import Ollama\n",
    "from llama_index.embeddings.huggingface import HuggingFaceEmbedding\n",
    "from typing import List, Tuple\n",
    "import dotenv\n",
    "import unicodedata\n",
    "import string\n",
    "from collections import Counter\n",
    "from difflib import SequenceMatcher\n",
    "\n",
    "\n"
   ]
  },
  {
   "cell_type": "markdown",
   "metadata": {},
   "source": [
    "note: Should thread the youtube download script to not waste time. only network heavy\n"
   ]
  },
  {
   "cell_type": "code",
   "execution_count": 1,
   "metadata": {},
   "outputs": [],
   "source": [
    "link = \"https://www.youtube.com/watch?v=sYj0exUT_Mw&pp=ygUYYW5kcmV3IHRhdGUgdnMgdGhlcmFwaXN0\""
   ]
  },
  {
   "cell_type": "code",
   "execution_count": 10,
   "metadata": {},
   "outputs": [
    {
     "name": "stdout",
     "output_type": "stream",
     "text": [
      "[youtube] Extracting URL: https://www.youtube.com/watch?v=sYj0exUT_Mw&pp=ygUYYW5kcmV3IHRhdGUgdnMgdGhlcmFwaXN0\n",
      "[youtube] sYj0exUT_Mw: Downloading webpage\n",
      "[youtube] sYj0exUT_Mw: Downloading ios player API JSON\n",
      "[youtube] sYj0exUT_Mw: Downloading mweb player API JSON\n",
      "[youtube] sYj0exUT_Mw: Downloading m3u8 information\n",
      "[info] sYj0exUT_Mw: Downloading 1 format(s): 616+251\n",
      "[hlsnative] Downloading m3u8 manifest\n",
      "[hlsnative] Total fragments: 1465\n",
      "[download] Destination: ./videos/Andrew Tate vs Therapist (Round 2).f616.mp4\n",
      "[download]  90.6% of ~   1.66GiB at    1.01MiB/s ETA 02:18 (frag 1326/1465)   [download] Got error: HTTPSConnectionPool(host='rr2---sn-npoldn76.googlevideo.com', port=443): Read timed out.. Retrying (1/10)...\n",
      "[download] Got error: ('Connection aborted.', ConnectionResetError(54, 'Connection reset by peer')). Retrying (2/10)...\n",
      "[download] 100% of    1.66GiB in 00:36:48 at 786.71KiB/s                      \n",
      "[download] Destination: ./videos/Andrew Tate vs Therapist (Round 2).f251.webm\n",
      "[download] 100% of  103.45MiB in 00:00:08 at 12.48MiB/s  \n",
      "[Merger] Merging formats into \"./videos/Andrew Tate vs Therapist (Round 2).mp4\"\n",
      "Deleting original file ./videos/Andrew Tate vs Therapist (Round 2).f251.webm (pass -k to keep)\n",
      "Deleting original file ./videos/Andrew Tate vs Therapist (Round 2).f616.mp4 (pass -k to keep)\n"
     ]
    },
    {
     "data": {
      "text/plain": [
       "CompletedProcess(args=['yt-dlp', '-f', 'bv*[ext=mp4]+ba', '--merge-output-format', 'mp4', '-o', './videos/%(title)s.%(ext)s', 'https://www.youtube.com/watch?v=sYj0exUT_Mw&pp=ygUYYW5kcmV3IHRhdGUgdnMgdGhlcmFwaXN0', '--progress'], returncode=0)"
      ]
     },
     "execution_count": 10,
     "metadata": {},
     "output_type": "execute_result"
    }
   ],
   "source": [
    "subprocess.run([\n",
    "    \"yt-dlp\",\n",
    "    \"-f\",\n",
    "    \"bv*[ext=mp4]+ba\",\n",
    "    \"--merge-output-format\",\n",
    "    \"mp4\",\n",
    "    \"-o\",\n",
    "    \"./videos/%(title)s.%(ext)s\",\n",
    "    link,\n",
    "    \"--progress\"\n",
    "])# -\"a\", \"your_links.txt\""
   ]
  },
  {
   "cell_type": "code",
   "execution_count": 2,
   "metadata": {},
   "outputs": [],
   "source": [
    "dotenv.load_dotenv()\n",
    "#Defining constants\n",
    "\n",
    "input_dir = pathlib.Path(\"./videos\")\n",
    "output_dir = pathlib.Path(\"./clips\")\n",
    "transcriptions_dir = pathlib.Path(\"./transcriptions\")\n",
    "hf_token = os.getenv(\"hugging_face_token\")\n",
    "#set if you have local whisperx model\n",
    "model_path = None\n",
    "\n",
    "\n",
    "#default pytorch variables\n",
    "device = \"cpu\"\n",
    "# batch_size = \n",
    "compute_type = \"int8\"\n",
    "video_path = pathlib.Path(\"./short.mp4\")"
   ]
  },
  {
   "cell_type": "code",
   "execution_count": 3,
   "metadata": {},
   "outputs": [],
   "source": [
    "#Check for existing directories and make if needed\n",
    "\n",
    "os.makedirs(input_dir, exist_ok=True)\n",
    "os.makedirs(output_dir, exist_ok=True)\n",
    "os.makedirs(transcriptions_dir, exist_ok=True)"
   ]
  },
  {
   "cell_type": "code",
   "execution_count": 91,
   "metadata": {},
   "outputs": [],
   "source": [
    "#Step 1: Transcription\n",
    "def transcribe(video_path: pathlib.Path):\n",
    "    model = whisperx.load_model(\"small\", device=device, compute_type=compute_type)\n",
    "    audio = whisperx.load_audio(str(video_path.absolute()))\n",
    "    result = model.transcribe(audio, language=\"en\", batch_size=8)\n",
    "    complete_trancsript = \"\"\n",
    "    for segment in result[\"segments\"]:\n",
    "        complete_trancsript += segment[\"text\"]    \n",
    "    model_a, metadata = whisperx.load_align_model(language_code=result[\"language\"], device=device)\n",
    "    refined_result = whisperx.align(result[\"segments\"], model_a, metadata, audio, device, return_char_alignments=False)\n",
    "    word_timestamps = []\n",
    "    # Iterate through each segment to extract word timestamps and confidence scores\n",
    "    for segment in refined_result[\"segments\"]:\n",
    "        for word_info in segment.get(\"words\", []):\n",
    "            if \"start\" in word_info and \"end\" in word_info:\n",
    "                word_timestamps.append({\n",
    "                    \"word\": word_info[\"word\"],\n",
    "                    \"start\": word_info[\"start\"],  # Assuming start and end are present\n",
    "                    \"end\": word_info[\"end\"],  # Assuming start and end are present\n",
    "                    \"score\": word_info.get(\"score\", 0)  # Default score if not provided\n",
    "                })\n",
    "    transript_path = transcriptions_dir / (video_path.stem + \".json\")\n",
    "    with open(transript_path, \"w\") as file:\n",
    "        json.dump({\"text\": complete_trancsript, \"word_timestamps\": word_timestamps}, file)\n",
    "\n"
   ]
  },
  {
   "cell_type": "code",
   "execution_count": null,
   "metadata": {},
   "outputs": [],
   "source": [
    "transcribe(pathlib.Path(\"/Users/itzmaniss/coding/QuoteMiner/videos/Dr. Marc Brackett： How to Increase Your Emotional Intelligence.mp4\"))"
   ]
  },
  {
   "cell_type": "code",
   "execution_count": 80,
   "metadata": {},
   "outputs": [],
   "source": [
    "from llama_index.core import Document\n",
    "\n",
    "with open(\"./transcriptions/long.json\", \"r\") as file:\n",
    "        data = json.load(file)\n",
    "\n",
    "x = Document(text=data[\"text\"])"
   ]
  },
  {
   "cell_type": "code",
   "execution_count": null,
   "metadata": {},
   "outputs": [],
   "source": [
    "\n",
    "# def extract_quotes(transcriptions_dir: pathlib.Path) -> list:\n",
    "Settings.llm = Ollama(model=\"gemma2\")\n",
    "Settings.embed_model = HuggingFaceEmbedding(\n",
    "    model_name=\"BAAI/bge-small-en-v1.5\"\n",
    ")\n",
    "\n",
    "# documents = SimpleDirectoryReader(input_dir=transcriptions_dir).load_data()\n",
    "index = VectorStoreIndex.from_documents([x,])\n",
    "\n",
    "with open(\"prompt.txt\", \"r\") as file:\n",
    "    detailed_prompt = file.read()\n",
    "\n",
    "\n",
    "query_engine = index.as_query_engine()\n",
    "response = query_engine.query(detailed_prompt)\n",
    "\n",
    "quotes = json.loads(remove_trailing_commas(y.strip().replace(\"```\", \"\").strip().replace(\"json\", \"\")))\n",
    "\n",
    "with open(\"motivational_lines.txt\", \"w\") as output_file:\n",
    "    output_file.write(response.response)\n",
    "\n",
    "    return quotes\n",
    "\n"
   ]
  },
  {
   "cell_type": "code",
   "execution_count": null,
   "metadata": {},
   "outputs": [],
   "source": [
    "\n",
    "with open(\"prompt.txt\", \"r\") as file:\n",
    "    detailed_prompt = file.read()\n",
    "\n",
    "\n",
    "query_engine = index.as_query_engine()\n",
    "response = query_engine.query(detailed_prompt)"
   ]
  },
  {
   "cell_type": "code",
   "execution_count": null,
   "metadata": {},
   "outputs": [],
   "source": [
    "import re\n",
    "\n",
    "def remove_trailing_commas(json_string):\n",
    "    \"\"\"\n",
    "    Remove trailing commas from a JSON string.\n",
    "\n",
    "    Args:\n",
    "        json_string (str): The JSON string to clean.\n",
    "\n",
    "    Returns:\n",
    "        str: The JSON string without trailing commas.\n",
    "    \"\"\"\n",
    "    # Regex to detect trailing commas before a closing brace or bracket\n",
    "    trailing_comma_pattern = re.compile(r\",\\s*([}\\]])\")\n",
    "\n",
    "    # Replace all trailing commas with the closing brace/bracket\n",
    "    cleaned_json = trailing_comma_pattern.sub(r\"\\1\", json_string)\n",
    "\n",
    "    return cleaned_json\n"
   ]
  },
  {
   "cell_type": "code",
   "execution_count": 6,
   "metadata": {},
   "outputs": [],
   "source": [
    "def generate_clips(video_path: pathlib.Path, quotes: List[dict]) -> None:\n",
    "    for idx, quote in enumerate(quotes):\n",
    "        start = quote[\"start\"]\n",
    "        end = quote[\"end\"]\n",
    "        \n",
    "        if start is None or end is None:\n",
    "            print(f\"Skipping quote {idx + 1} due to missing timestamps.\")\n",
    "            continue\n",
    "        \n",
    "        output_file = output_dir / f\"{video_path.stem}_{idx + 1}.mp4\"\n",
    "        cmd = [\n",
    "            \"ffmpeg\", \"-i\", video_path, \"-ss\", str(start), \"-to\", str(end),\n",
    "            \"-c\", \"copy\", output_file\n",
    "        ]\n",
    "        subprocess.run(cmd)\n",
    "    \n"
   ]
  }
 ],
 "metadata": {
  "kernelspec": {
   "display_name": ".venv",
   "language": "python",
   "name": "python3"
  },
  "language_info": {
   "codemirror_mode": {
    "name": "ipython",
    "version": 3
   },
   "file_extension": ".py",
   "mimetype": "text/x-python",
   "name": "python",
   "nbconvert_exporter": "python",
   "pygments_lexer": "ipython3",
   "version": "3.9.6"
  }
 },
 "nbformat": 4,
 "nbformat_minor": 2
}
